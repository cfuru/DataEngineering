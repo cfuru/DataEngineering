{
 "cells": [
  {
   "cell_type": "code",
   "execution_count": 0,
   "metadata": {
    "application/vnd.databricks.v1+cell": {
     "cellMetadata": {
      "byteLimit": 2048000,
      "rowLimit": 10000
     },
     "inputWidgets": {},
     "nuid": "9113db4c-8f81-4089-a8b0-d0cb4af275a4",
     "showTitle": false,
     "title": ""
    }
   },
   "outputs": [],
   "source": [
    "from pyspark.sql.types import StructType, StructField, StringType, IntegerType, DoubleType"
   ]
  },
  {
   "cell_type": "code",
   "execution_count": 0,
   "metadata": {
    "application/vnd.databricks.v1+cell": {
     "cellMetadata": {
      "byteLimit": 2048000,
      "rowLimit": 10000
     },
     "inputWidgets": {},
     "nuid": "2e0cb6d4-213f-43cd-902c-18f2252bfb93",
     "showTitle": false,
     "title": ""
    }
   },
   "outputs": [],
   "source": [
    "%run ../utils/pyutils"
   ]
  },
  {
   "cell_type": "code",
   "execution_count": 0,
   "metadata": {
    "application/vnd.databricks.v1+cell": {
     "cellMetadata": {
      "byteLimit": 2048000,
      "rowLimit": 10000
     },
     "inputWidgets": {},
     "nuid": "671fd84f-a204-4c2c-91fd-9fba84fe61de",
     "showTitle": false,
     "title": ""
    }
   },
   "outputs": [],
   "source": [
    "container_name = \"raw\"\n",
    "ds = get_wasbs_path(container = \"raw\")"
   ]
  },
  {
   "cell_type": "code",
   "execution_count": 0,
   "metadata": {
    "application/vnd.databricks.v1+cell": {
     "cellMetadata": {},
     "inputWidgets": {},
     "nuid": "6822f907-4e76-4c55-b508-03b84bb85162",
     "showTitle": false,
     "title": ""
    }
   },
   "outputs": [],
   "source": [
    "schema = StructType([\n",
    "    StructField(\"booliId\", StringType(), True),\n",
    "    StructField(\"streetAddress\", StringType(), True),\n",
    "    StructField(\"constructionYear\", StringType(), True),\n",
    "    StructField(\"objectType\", StringType(), True),\n",
    "    StructField(\"descriptiveAreaName\", StringType(), True),\n",
    "    StructField(\"soldPriceType\", StringType(), True),\n",
    "    StructField(\"daysActive\", StringType(), True),\n",
    "    StructField(\"soldDate\", StringType(), True),\n",
    "    StructField(\"latitude\", StringType(), True),\n",
    "    StructField(\"longitude\", StringType(), True),\n",
    "    StructField(\"url\", StringType(), True),\n",
    "    StructField(\"__typename\", StringType(), True),\n",
    "    StructField(\"soldPrice.raw\", StringType(), True),\n",
    "    StructField(\"rent.raw\", StringType(), True),\n",
    "    StructField(\"floor.raw\", StringType(), True),\n",
    "    StructField(\"soldSqmPrice.raw\", StringType(), True),\n",
    "    StructField(\"soldPriceAbsoluteDiff.raw\", StringType(), True),\n",
    "    StructField(\"soldPricePercentageDiff.raw\", StringType(), True),\n",
    "    StructField(\"listPrice.raw\", StringType(), True),\n",
    "    StructField(\"livingArea.raw\", StringType(), True),\n",
    "    StructField(\"rooms.raw\", StringType(), True)\n",
    "])"
   ]
  },
  {
   "cell_type": "code",
   "execution_count": 0,
   "metadata": {
    "application/vnd.databricks.v1+cell": {
     "cellMetadata": {
      "byteLimit": 2048000,
      "rowLimit": 10000
     },
     "inputWidgets": {},
     "nuid": "7817bec6-2147-4912-bbc2-12edd412820a",
     "showTitle": false,
     "title": ""
    }
   },
   "outputs": [],
   "source": [
    "rename_dict = {\n",
    "    \"soldPrice.raw\": \"soldPrice\",\n",
    "    \"rent.raw\": \"rent\",\n",
    "    \"floor.raw\": \"floor\",\n",
    "    \"soldSqmPrice.raw\": \"soldSqmPrice\",\n",
    "    \"soldPriceAbsoluteDiff.raw\": \"soldPriceAbsoluteDiff\",\n",
    "    \"soldPricePercentageDiff.raw\": \"soldPricePercentageDiff\",\n",
    "    \"listPrice.raw\": \"listPrice\",\n",
    "    \"livingArea.raw\": \"livingArea\",\n",
    "    \"rooms.raw\": \"rooms\",\n",
    "    \"__typename\": \"typeName\"\n",
    "}"
   ]
  },
  {
   "cell_type": "code",
   "execution_count": 0,
   "metadata": {
    "application/vnd.databricks.v1+cell": {
     "cellMetadata": {
      "byteLimit": 2048000,
      "rowLimit": 10000
     },
     "inputWidgets": {},
     "nuid": "7e19aaa6-0d5f-4a48-b6fa-3e446f7f2172",
     "showTitle": false,
     "title": ""
    }
   },
   "outputs": [],
   "source": [
    "df = spark.read.format(\"csv\") \\\n",
    "    .option(\"header\", \"true\") \\\n",
    "    .option(\"inferSchema\", \"false\") \\\n",
    "    .schema(schema) \\\n",
    "    .load(f\"{ds}/sold/all\")"
   ]
  },
  {
   "cell_type": "code",
   "execution_count": 0,
   "metadata": {
    "application/vnd.databricks.v1+cell": {
     "cellMetadata": {
      "byteLimit": 2048000,
      "rowLimit": 10000
     },
     "inputWidgets": {},
     "nuid": "e0c6340a-32f3-4980-9e9d-8410925b3c5d",
     "showTitle": false,
     "title": ""
    }
   },
   "outputs": [],
   "source": [
    "for old_name, new_name in rename_dict.items():\n",
    "    try:\n",
    "        df = df.withColumnRenamed(old_name, new_name)\n",
    "        print(f\"Renamed column {old_name} to {new_name}\")\n",
    "    except Exception as e:\n",
    "        print(f\"Failed to rename column {old_name} to {new_name}: {e}\")\n"
   ]
  },
  {
   "cell_type": "code",
   "execution_count": 0,
   "metadata": {
    "application/vnd.databricks.v1+cell": {
     "cellMetadata": {
      "byteLimit": 2048000,
      "rowLimit": 10000
     },
     "inputWidgets": {},
     "nuid": "eea50d6e-35be-48d6-a900-71add7f299f9",
     "showTitle": false,
     "title": ""
    }
   },
   "outputs": [],
   "source": [
    "df.createOrReplaceTempView(\"sold_raw\")"
   ]
  },
  {
   "cell_type": "code",
   "execution_count": 0,
   "metadata": {
    "application/vnd.databricks.v1+cell": {
     "cellMetadata": {
      "byteLimit": 2048000,
      "implicitDf": true,
      "rowLimit": 10000
     },
     "inputWidgets": {},
     "nuid": "38d8415d-e723-443b-baf0-95e02b1bd0d3",
     "showTitle": false,
     "title": ""
    }
   },
   "outputs": [],
   "source": [
    "%sql\n",
    "select\n",
    "    booliId,\n",
    "    streetAddress,\n",
    "    constructionYear,\n",
    "    objectType,\n",
    "    descriptiveAreaName,\n",
    "    soldPriceType,\n",
    "    daysActive,\n",
    "    soldDate,\n",
    "    latitude,\n",
    "    longitude,\n",
    "    url,\n",
    "    typeName,\n",
    "    soldPrice,\n",
    "    rent,\n",
    "    floor,\n",
    "    soldSqmPrice,\n",
    "    soldPriceAbsoluteDiff,\n",
    "    soldPricePercentageDiff,\n",
    "    listPrice,\n",
    "    livingArea,\n",
    "    rooms\n",
    "from \n",
    "    sold_raw"
   ]
  },
  {
   "cell_type": "code",
   "execution_count": 0,
   "metadata": {
    "application/vnd.databricks.v1+cell": {
     "cellMetadata": {
      "byteLimit": 2048000,
      "implicitDf": true,
      "rowLimit": 10000
     },
     "inputWidgets": {},
     "nuid": "f74b8ec8-00ab-48ec-a349-0383c31b710e",
     "showTitle": false,
     "title": ""
    }
   },
   "outputs": [],
   "source": [
    "%sql\n",
    "select distinct\n",
    "  descriptiveAreaName\n",
    "from \n",
    "  sold_raw"
   ]
  },
  {
   "cell_type": "code",
   "execution_count": 0,
   "metadata": {
    "application/vnd.databricks.v1+cell": {
     "cellMetadata": {},
     "inputWidgets": {},
     "nuid": "9ea98148-6064-4cf9-93be-6f4e2cd5a9a1",
     "showTitle": false,
     "title": ""
    }
   },
   "outputs": [],
   "source": []
  }
 ],
 "metadata": {
  "application/vnd.databricks.v1+notebook": {
   "dashboards": [],
   "environmentMetadata": null,
   "language": "python",
   "notebookMetadata": {
    "mostRecentlyExecutedCommandWithImplicitDF": {
     "commandId": 1123103275813437,
     "dataframes": [
      "_sqldf"
     ]
    },
    "pythonIndentUnit": 4
   },
   "notebookName": "CleaningRawData",
   "widgets": {}
  }
 },
 "nbformat": 4,
 "nbformat_minor": 0
}
